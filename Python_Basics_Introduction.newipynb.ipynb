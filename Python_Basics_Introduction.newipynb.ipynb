{
  "cells": [
    {
      "cell_type": "markdown",
      "source": [
        "### Instructions\n",
        "\n",
        "* Sign up for the free course on Educative, __Learn Python 3 From Scratch__\n",
        "* https://www.educative.io/courses/learn-python-3-from-scratch\n",
        "* Complete the programming exercises below as you go through the course.\n",
        "* Delete or comment out the line of code in each cell which says `raise NotImplementedError()` and replace it with your own."
      ],
      "metadata": {
        "deletable": false,
        "editable": false,
        "nbgrader": {
          "cell_type": "markdown",
          "checksum": "d7b8ab195168c2cf11b47b100acdc7c6",
          "grade": false,
          "grade_id": "cell-39c074ba0bb27d83",
          "locked": true,
          "schema_version": 3,
          "solution": false,
          "task": false
        }
      },
      "id": "3cfb3237"
    },
    {
      "cell_type": "markdown",
      "source": [
        "# Educative - Introduction\n",
        "\n",
        "https://www.educative.io/courses/learn-python-3-from-scratch/g7jr5MYkV8G"
      ],
      "metadata": {
        "deletable": false,
        "editable": false,
        "nbgrader": {
          "cell_type": "markdown",
          "checksum": "0ad583ceae6bb257c57795ad930fd076",
          "grade": false,
          "grade_id": "cell-cd0432914e330767",
          "locked": true,
          "schema_version": 3,
          "solution": false,
          "task": false
        }
      },
      "id": "eafcd8de"
    },
    {
      "cell_type": "markdown",
      "source": [
        "Write code in the cell below to print the statement `Hello World`"
      ],
      "metadata": {
        "deletable": false,
        "editable": false,
        "nbgrader": {
          "cell_type": "markdown",
          "checksum": "41f3fe9909f51b0d75e1a575d5c870af",
          "grade": false,
          "grade_id": "cell-06061a080ea59082",
          "locked": true,
          "schema_version": 3,
          "solution": false,
          "task": false
        }
      },
      "id": "58662537"
    },
    {
      "cell_type": "code",
      "source": [
        "\n",
        "# YOUR CODE HERE\n",
        "print(\"Hello World\")\n"
      ],
      "outputs": [
        {
          "output_type": "stream",
          "name": "stdout",
          "text": [
            "Hello World\n"
          ]
        }
      ],
      "execution_count": null,
      "metadata": {
        "deletable": false,
        "nbgrader": {
          "cell_type": "code",
          "checksum": "743eb654e2b0e496e687be1b8c4e6dea",
          "grade": true,
          "grade_id": "cell-d62e3935ff7de400",
          "locked": false,
          "points": 1,
          "schema_version": 3,
          "solution": true,
          "task": false
        },
        "noteable": {},
        "ExecuteTime": {
          "start_time": "2023-09-05T18:52:13.352577+00:00",
          "end_time": "2023-09-05T18:52:13.507438+00:00"
        }
      },
      "id": "123a15d1"
    },
    {
      "cell_type": "markdown",
      "source": [
        "Write code in the cell below to print the numbers 50, 1000, 3.142 on separate lines."
      ],
      "metadata": {
        "deletable": false,
        "editable": false,
        "nbgrader": {
          "cell_type": "markdown",
          "checksum": "7e16039b4e7e4b2cf914a4647fc69030",
          "grade": false,
          "grade_id": "cell-d3aae9e607de369c",
          "locked": true,
          "schema_version": 3,
          "solution": false,
          "task": false
        }
      },
      "id": "0ccbd778"
    },
    {
      "cell_type": "code",
      "source": [
        "\n",
        "# YOUR CODE HERE\n",
        "print(\"50\")\n",
        "print(\"1000\")\n",
        "print(\"3.142\")"
      ],
      "outputs": [
        {
          "output_type": "stream",
          "name": "stdout",
          "text": [
            "50\n",
            "1000\n",
            "3.142\n"
          ]
        }
      ],
      "execution_count": null,
      "metadata": {
        "deletable": false,
        "nbgrader": {
          "cell_type": "code",
          "checksum": "009aa4dd182eaf610d17a205d34968c7",
          "grade": true,
          "grade_id": "cell-297469e1a0737db3",
          "locked": false,
          "points": 1,
          "schema_version": 3,
          "solution": true,
          "task": false
        },
        "noteable": {},
        "ExecuteTime": {
          "start_time": "2023-09-05T18:54:26.335958+00:00",
          "end_time": "2023-09-05T18:54:26.490343+00:00"
        }
      },
      "id": "406612a9"
    },
    {
      "cell_type": "markdown",
      "source": [
        "Write code in the cell below to print the numbers 50, 1000, 3.142, `Hello World` all on one line."
      ],
      "metadata": {
        "deletable": false,
        "editable": false,
        "nbgrader": {
          "cell_type": "markdown",
          "checksum": "c2a9cc33d3d26f549392b10fc577fea6",
          "grade": false,
          "grade_id": "cell-78254307a8c9fb79",
          "locked": true,
          "schema_version": 3,
          "solution": false,
          "task": false
        }
      },
      "id": "105d56af"
    },
    {
      "cell_type": "code",
      "source": [
        "\n",
        "# YOUR CODE HERE\n",
        "print(\"50,1000,3.142,Hello World\")"
      ],
      "outputs": [
        {
          "output_type": "stream",
          "name": "stdout",
          "text": [
            "50,1000,3.142,Hello World\n"
          ]
        }
      ],
      "execution_count": null,
      "metadata": {
        "deletable": false,
        "nbgrader": {
          "cell_type": "code",
          "checksum": "1f8022f86f59b11742bef504c425b899",
          "grade": true,
          "grade_id": "cell-aa939aca5a7e3cd4",
          "locked": false,
          "points": 1,
          "schema_version": 3,
          "solution": true,
          "task": false
        },
        "noteable": {},
        "ExecuteTime": {
          "start_time": "2023-09-05T18:54:49.701635+00:00",
          "end_time": "2023-09-05T18:54:49.856232+00:00"
        }
      },
      "id": "f96cf395"
    },
    {
      "cell_type": "markdown",
      "source": [
        "Add some comments in the cell below."
      ],
      "metadata": {
        "deletable": false,
        "editable": false,
        "nbgrader": {
          "cell_type": "markdown",
          "checksum": "0f69f39a6fa3422c0e076006ef7eec13",
          "grade": false,
          "grade_id": "cell-da077b6eaaa5c534",
          "locked": true,
          "schema_version": 3,
          "solution": false,
          "task": false
        }
      },
      "id": "593df28a"
    },
    {
      "cell_type": "code",
      "source": [
        "\n",
        "# YOUR CODE HERE\n",
        "# I am enjoying learning code\n"
      ],
      "outputs": [],
      "execution_count": null,
      "metadata": {
        "deletable": false,
        "nbgrader": {
          "cell_type": "code",
          "checksum": "f0511d9bd8f69ca3b65040b24a421940",
          "grade": true,
          "grade_id": "cell-ecf9744730367ba4",
          "locked": false,
          "points": 1,
          "schema_version": 3,
          "solution": true,
          "task": false
        },
        "noteable": {},
        "ExecuteTime": {
          "start_time": "2023-09-06T01:54:13.778365+00:00",
          "end_time": "2023-09-06T01:54:13.932550+00:00"
        }
      },
      "id": "57f1d10a"
    },
    {
      "cell_type": "markdown",
      "source": [
        "Add a docstring in the cell below."
      ],
      "metadata": {},
      "id": "65427b48"
    },
    {
      "cell_type": "code",
      "source": [
        "\n",
        "# YOUR CODE HERE\n",
        "\"\"\"I hope I can continue to enjoy coding and figuring out what I am doing during this class.\"\"\""
      ],
      "outputs": [
        {
          "output_type": "execute_result",
          "execution_count": null,
          "data": {
            "text/plain": "'I hope I can continue to enjoy coding and figuring out what I am doing during this class.'"
          },
          "metadata": {}
        }
      ],
      "execution_count": null,
      "metadata": {
        "deletable": false,
        "nbgrader": {
          "cell_type": "code",
          "checksum": "07040e53ef9a4967d80e2b914001181c",
          "grade": true,
          "grade_id": "cell-d019c022c6bb426f",
          "locked": false,
          "points": 1,
          "schema_version": 3,
          "solution": true,
          "task": false
        },
        "noteable": {},
        "ExecuteTime": {
          "start_time": "2023-09-06T02:01:37.238466+00:00",
          "end_time": "2023-09-06T02:01:37.395008+00:00"
        }
      },
      "id": "820cb4ad"
    }
  ],
  "metadata": {
    "kernelspec": {
      "name": "python3",
      "display_name": "Python 3.9",
      "language": "python"
    },
    "language_info": {
      "codemirror_mode": {
        "name": "ipython",
        "version": 3
      },
      "file_extension": ".py",
      "mimetype": "text/x-python",
      "name": "python",
      "nbconvert_exporter": "python",
      "pygments_lexer": "ipython3",
      "version": "3.8.8"
    },
    "noteable": {
      "last_delta_id": "0784221f-fbff-4d9b-8272-e02630d68dd9"
    },
    "selected_hardware_size": "small",
    "kernel_info": {
      "name": "python3"
    },
    "nteract": {
      "version": "noteable@2.9.0"
    }
  },
  "nbformat": 4,
  "nbformat_minor": 5
}